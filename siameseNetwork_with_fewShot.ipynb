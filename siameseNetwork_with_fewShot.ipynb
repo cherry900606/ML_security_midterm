{
 "cells": [
  {
   "cell_type": "code",
   "execution_count": 8,
   "id": "e5e64abe",
   "metadata": {},
   "outputs": [],
   "source": [
    "from __future__ import print_function\n",
    "import keras\n",
    "import tensorflow as tf\n",
    "from tensorflow.keras.datasets import mnist\n",
    "from tensorflow.keras.layers import Conv2D, MaxPooling2D, BatchNormalization, Activation, Concatenate\n",
    "from tensorflow.keras import backend as K\n",
    "from tensorflow.keras.callbacks import ModelCheckpoint, EarlyStopping\n",
    "from tensorflow.keras.models import Model\n",
    "from tensorflow.keras.layers import Input, Flatten, Dense, Lambda\n",
    "from siamese import SiameseNetwork\n",
    "import numpy as np"
   ]
  },
  {
   "cell_type": "code",
   "execution_count": 2,
   "id": "a802826c",
   "metadata": {},
   "outputs": [],
   "source": [
    "batch_size = 128\n",
    "num_classes = 10\n",
    "epochs = 10\n",
    "\n",
    "# input image dimensions\n",
    "img_rows, img_cols = 28, 28"
   ]
  },
  {
   "cell_type": "code",
   "execution_count": 3,
   "id": "eba78842",
   "metadata": {},
   "outputs": [],
   "source": [
    "# the data, split between train and test sets\n",
    "(x_train, y_train), (x_test, y_test) = mnist.load_data()\n",
    "\n",
    "if K.image_data_format() == 'channels_first':\n",
    "    x_train = x_train.reshape(x_train.shape[0], 1, img_rows, img_cols)\n",
    "    x_test = x_test.reshape(x_test.shape[0], 1, img_rows, img_cols)\n",
    "    input_shape = (1, img_rows, img_cols)\n",
    "else:\n",
    "    x_train = x_train.reshape(x_train.shape[0], img_rows, img_cols, 1)\n",
    "    x_test = x_test.reshape(x_test.shape[0], img_rows, img_cols, 1)\n",
    "    input_shape = (img_rows, img_cols, 1)\n",
    "\n",
    "x_train = x_train.astype('float32')\n",
    "x_test = x_test.astype('float32')\n",
    "x_train /= 255\n",
    "x_test /= 255"
   ]
  },
  {
   "cell_type": "code",
   "execution_count": 27,
   "id": "fc9f71b4",
   "metadata": {},
   "outputs": [],
   "source": [
    "def create_base_model(input_shape):\n",
    "    model_input = Input(shape=input_shape)\n",
    "\n",
    "    embedding = Conv2D(32, kernel_size=(3, 3), input_shape=input_shape)(model_input)\n",
    "    embedding = BatchNormalization()(embedding)\n",
    "    embedding = Activation(activation='relu')(embedding)\n",
    "    embedding = MaxPooling2D(pool_size=(2, 2))(embedding)\n",
    "    embedding = Conv2D(64, kernel_size=(3, 3))(embedding)\n",
    "    embedding = BatchNormalization()(embedding)\n",
    "    embedding = Activation(activation='relu')(embedding)\n",
    "    embedding = MaxPooling2D(pool_size=(2, 2))(embedding)\n",
    "    embedding = Flatten()(embedding)\n",
    "    embedding = Dense(128)(embedding)\n",
    "    embedding = BatchNormalization()(embedding)\n",
    "    embedding = Activation(activation='relu')(embedding)\n",
    "\n",
    "    return Model(model_input, embedding)\n",
    "\n",
    "\n",
    "def create_head_model(embedding_shape):\n",
    "    embedding_a = Input(shape=embedding_shape[1:])\n",
    "    embedding_b = Input(shape=embedding_shape[1:])\n",
    "\n",
    "#     head = Concatenate()([embedding_a, embedding_b])\n",
    "#     head = Dense(8)(head)\n",
    "#     head = BatchNormalization()(head)\n",
    "#     head = Activation(activation='sigmoid')(head)\n",
    "\n",
    "#     head = Dense(1)(head)\n",
    "#     head = BatchNormalization()(head)\n",
    "#     head = Activation(activation='sigmoid')(head)\n",
    "    \n",
    "    L1_layer = Lambda(lambda tensors:K.abs(tensors[0] - tensors[1]))\n",
    "    L1_distance = L1_layer([embedding_a, embedding_b])\n",
    "    prediction = Dense(1,activation='sigmoid')(L1_distance)\n",
    "\n",
    "    return Model([embedding_a, embedding_b], prediction)"
   ]
  },
  {
   "cell_type": "code",
   "execution_count": 9,
   "id": "94ec73af",
   "metadata": {},
   "outputs": [],
   "source": [
    "base_model = create_base_model(input_shape)\n",
    "head_model = create_head_model(base_model.output_shape)\n",
    "\n",
    "siamese_network = SiameseNetwork(base_model, head_model)\n",
    "siamese_network.compile(loss='binary_crossentropy', optimizer=tf.keras.optimizers.Adam(), metrics=['accuracy'])\n",
    "\n",
    "siamese_checkpoint_path = \"./siamese_checkpoint\"\n",
    "\n",
    "siamese_callbacks = [\n",
    "    EarlyStopping(monitor='val_accuracy', patience=10, verbose=0),\n",
    "    ModelCheckpoint(siamese_checkpoint_path, monitor='val_accuracy', save_best_only=True, verbose=0)\n",
    "]"
   ]
  },
  {
   "cell_type": "code",
   "execution_count": 10,
   "id": "d60c4830",
   "metadata": {
    "scrolled": true
   },
   "outputs": [
    {
     "name": "stderr",
     "output_type": "stream",
     "text": [
      "C:\\Users\\cherry\\anaconda3\\lib\\site-packages\\keras\\engine\\training.py:1972: UserWarning: `Model.fit_generator` is deprecated and will be removed in a future version. Please use `Model.fit`, which supports generators.\n",
      "  warnings.warn('`Model.fit_generator` is deprecated and '\n"
     ]
    },
    {
     "name": "stdout",
     "output_type": "stream",
     "text": [
      "Epoch 1/10\n",
      "60/60 [==============================] - 124s 2s/step - loss: 0.3378 - accuracy: 0.8738 - val_loss: 0.6303 - val_accuracy: 0.8505\n",
      "INFO:tensorflow:Assets written to: .\\siamese_checkpoint\\assets\n",
      "Epoch 2/10\n",
      "60/60 [==============================] - 134s 2s/step - loss: 0.1729 - accuracy: 0.9554 - val_loss: 0.5632 - val_accuracy: 0.7800\n",
      "Epoch 3/10\n",
      "60/60 [==============================] - 112s 2s/step - loss: 0.1137 - accuracy: 0.9721 - val_loss: 0.3731 - val_accuracy: 0.9042\n",
      "INFO:tensorflow:Assets written to: .\\siamese_checkpoint\\assets\n",
      "Epoch 4/10\n",
      "60/60 [==============================] - 119s 2s/step - loss: 0.0843 - accuracy: 0.9787 - val_loss: 0.1846 - val_accuracy: 0.9575\n",
      "INFO:tensorflow:Assets written to: .\\siamese_checkpoint\\assets\n",
      "Epoch 5/10\n",
      "60/60 [==============================] - 137s 2s/step - loss: 0.0696 - accuracy: 0.9819 - val_loss: 0.1009 - val_accuracy: 0.9727\n",
      "INFO:tensorflow:Assets written to: .\\siamese_checkpoint\\assets\n",
      "Epoch 6/10\n",
      "60/60 [==============================] - 115s 2s/step - loss: 0.0578 - accuracy: 0.9847 - val_loss: 0.0793 - val_accuracy: 0.9759\n",
      "INFO:tensorflow:Assets written to: .\\siamese_checkpoint\\assets\n",
      "Epoch 7/10\n",
      "60/60 [==============================] - 143s 2s/step - loss: 0.0510 - accuracy: 0.9859 - val_loss: 0.0775 - val_accuracy: 0.9746\n",
      "Epoch 8/10\n",
      "60/60 [==============================] - 145s 2s/step - loss: 0.0456 - accuracy: 0.9876 - val_loss: 0.0604 - val_accuracy: 0.9799\n",
      "INFO:tensorflow:Assets written to: .\\siamese_checkpoint\\assets\n",
      "Epoch 9/10\n",
      "60/60 [==============================] - 133s 2s/step - loss: 0.0411 - accuracy: 0.9881 - val_loss: 0.0486 - val_accuracy: 0.9830\n",
      "INFO:tensorflow:Assets written to: .\\siamese_checkpoint\\assets\n",
      "Epoch 10/10\n",
      "60/60 [==============================] - 146s 2s/step - loss: 0.0364 - accuracy: 0.9898 - val_loss: 0.0490 - val_accuracy: 0.9842\n",
      "INFO:tensorflow:Assets written to: .\\siamese_checkpoint\\assets\n"
     ]
    }
   ],
   "source": [
    "siamese_network.fit(x_train, y_train,\n",
    "                    validation_data=(x_test, y_test),\n",
    "                    batch_size=1000,\n",
    "                    epochs=epochs,\n",
    "                    callbacks=siamese_callbacks)"
   ]
  },
  {
   "cell_type": "code",
   "execution_count": 11,
   "id": "3971429f",
   "metadata": {},
   "outputs": [
    {
     "name": "stderr",
     "output_type": "stream",
     "text": [
      "C:\\Users\\cherry\\anaconda3\\lib\\site-packages\\keras\\engine\\training.py:2006: UserWarning: `Model.evaluate_generator` is deprecated and will be removed in a future version. Please use `Model.evaluate`, which supports generators.\n",
      "  warnings.warn('`Model.evaluate_generator` is deprecated and '\n"
     ]
    },
    {
     "data": {
      "text/plain": [
       "[0.03771126642823219, 0.9888559579849243]"
      ]
     },
     "execution_count": 11,
     "metadata": {},
     "output_type": "execute_result"
    }
   ],
   "source": [
    "siamese_network.evaluate(x_train, y_train, batch_size=64)"
   ]
  },
  {
   "cell_type": "code",
   "execution_count": 22,
   "id": "e375ad32",
   "metadata": {},
   "outputs": [
    {
     "name": "stderr",
     "output_type": "stream",
     "text": [
      "C:\\Users\\cherry\\anaconda3\\lib\\site-packages\\keras\\engine\\training.py:1972: UserWarning: `Model.fit_generator` is deprecated and will be removed in a future version. Please use `Model.fit`, which supports generators.\n",
      "  warnings.warn('`Model.fit_generator` is deprecated and '\n"
     ]
    },
    {
     "name": "stdout",
     "output_type": "stream",
     "text": [
      "Epoch 1/20\n",
      "20/20 [==============================] - 3s 70ms/step - loss: 0.6831 - accuracy: 0.5750 - val_loss: 0.6860 - val_accuracy: 0.5320\n",
      "INFO:tensorflow:Assets written to: .\\siamese_checkpoint\\assets\n",
      "Epoch 2/20\n",
      "20/20 [==============================] - 1s 54ms/step - loss: 0.6169 - accuracy: 0.7050 - val_loss: 0.6825 - val_accuracy: 0.5460\n",
      "INFO:tensorflow:Assets written to: .\\siamese_checkpoint\\assets\n",
      "Epoch 3/20\n",
      "20/20 [==============================] - 1s 58ms/step - loss: 0.5979 - accuracy: 0.6950 - val_loss: 0.6807 - val_accuracy: 0.6100\n",
      "INFO:tensorflow:Assets written to: .\\siamese_checkpoint\\assets\n",
      "Epoch 4/20\n",
      "20/20 [==============================] - 1s 56ms/step - loss: 0.5293 - accuracy: 0.7950 - val_loss: 0.6745 - val_accuracy: 0.6760\n",
      "INFO:tensorflow:Assets written to: .\\siamese_checkpoint\\assets\n",
      "Epoch 5/20\n",
      "20/20 [==============================] - 1s 52ms/step - loss: 0.5299 - accuracy: 0.8250 - val_loss: 0.6667 - val_accuracy: 0.7040\n",
      "INFO:tensorflow:Assets written to: .\\siamese_checkpoint\\assets\n",
      "Epoch 6/20\n",
      "20/20 [==============================] - 1s 55ms/step - loss: 0.5093 - accuracy: 0.8150 - val_loss: 0.6611 - val_accuracy: 0.7040\n",
      "Epoch 7/20\n",
      "20/20 [==============================] - 1s 58ms/step - loss: 0.4651 - accuracy: 0.8700 - val_loss: 0.6415 - val_accuracy: 0.7520\n",
      "INFO:tensorflow:Assets written to: .\\siamese_checkpoint\\assets\n",
      "Epoch 8/20\n",
      "20/20 [==============================] - 1s 47ms/step - loss: 0.4752 - accuracy: 0.8500 - val_loss: 0.6334 - val_accuracy: 0.7580\n",
      "INFO:tensorflow:Assets written to: .\\siamese_checkpoint\\assets\n",
      "Epoch 9/20\n",
      "20/20 [==============================] - 1s 50ms/step - loss: 0.4427 - accuracy: 0.8700 - val_loss: 0.6040 - val_accuracy: 0.7820\n",
      "INFO:tensorflow:Assets written to: .\\siamese_checkpoint\\assets\n",
      "Epoch 10/20\n",
      "20/20 [==============================] - 1s 52ms/step - loss: 0.3961 - accuracy: 0.9000 - val_loss: 0.5847 - val_accuracy: 0.7920\n",
      "INFO:tensorflow:Assets written to: .\\siamese_checkpoint\\assets\n",
      "Epoch 11/20\n",
      "20/20 [==============================] - 1s 58ms/step - loss: 0.3907 - accuracy: 0.8950 - val_loss: 0.5768 - val_accuracy: 0.7760\n",
      "Epoch 12/20\n",
      "20/20 [==============================] - 1s 50ms/step - loss: 0.3640 - accuracy: 0.9400 - val_loss: 0.5376 - val_accuracy: 0.7800\n",
      "Epoch 13/20\n",
      "20/20 [==============================] - 1s 59ms/step - loss: 0.3565 - accuracy: 0.9050 - val_loss: 0.5110 - val_accuracy: 0.7880\n",
      "Epoch 14/20\n",
      "20/20 [==============================] - 1s 54ms/step - loss: 0.3653 - accuracy: 0.8900 - val_loss: 0.5067 - val_accuracy: 0.7780\n",
      "Epoch 15/20\n",
      "20/20 [==============================] - 1s 60ms/step - loss: 0.3264 - accuracy: 0.9150 - val_loss: 0.5209 - val_accuracy: 0.7320\n",
      "Epoch 16/20\n",
      "20/20 [==============================] - 1s 60ms/step - loss: 0.3083 - accuracy: 0.9250 - val_loss: 0.4831 - val_accuracy: 0.8100\n",
      "INFO:tensorflow:Assets written to: .\\siamese_checkpoint\\assets\n",
      "Epoch 17/20\n",
      "20/20 [==============================] - 1s 53ms/step - loss: 0.3003 - accuracy: 0.9600 - val_loss: 0.4777 - val_accuracy: 0.7960\n",
      "Epoch 18/20\n",
      "20/20 [==============================] - 1s 50ms/step - loss: 0.2956 - accuracy: 0.9250 - val_loss: 0.4413 - val_accuracy: 0.8060\n",
      "Epoch 19/20\n",
      "20/20 [==============================] - 1s 50ms/step - loss: 0.2564 - accuracy: 0.9550 - val_loss: 0.4628 - val_accuracy: 0.7800\n",
      "Epoch 20/20\n",
      "20/20 [==============================] - 1s 48ms/step - loss: 0.2536 - accuracy: 0.9650 - val_loss: 0.4110 - val_accuracy: 0.8260\n",
      "INFO:tensorflow:Assets written to: .\\siamese_checkpoint\\assets\n"
     ]
    }
   ],
   "source": [
    "base_model = create_base_model(input_shape)\n",
    "head_model = create_head_model(base_model.output_shape)\n",
    "\n",
    "siamese_network = SiameseNetwork(base_model, head_model)\n",
    "siamese_network.compile(loss='binary_crossentropy', optimizer=tf.keras.optimizers.Adam(), metrics=['accuracy'])\n",
    "\n",
    "siamese_checkpoint_path = \"./siamese_checkpoint\"\n",
    "\n",
    "siamese_callbacks = [\n",
    "    EarlyStopping(monitor='val_accuracy', patience=10, verbose=0),\n",
    "    ModelCheckpoint(siamese_checkpoint_path, monitor='val_accuracy', save_best_only=True, verbose=0)\n",
    "]\n",
    "\n",
    "few_shot_index = [np.where(y_train == i)[0][:20] for i in range(num_classes)]\n",
    "few_shot_index = np.concatenate(few_shot_index, axis=None)\n",
    "x_train_fewshot = x_train[few_shot_index]\n",
    "y_train_fewshot = y_train[few_shot_index]\n",
    "\n",
    "siamese_network.fit(x_train_fewshot, y_train_fewshot,\n",
    "                    validation_data=(x_test[:500], y_test[:500]),\n",
    "                    batch_size=10,\n",
    "                    epochs=20,\n",
    "                    callbacks=siamese_callbacks)"
   ]
  },
  {
   "cell_type": "code",
   "execution_count": 23,
   "id": "e91fa125",
   "metadata": {},
   "outputs": [
    {
     "name": "stderr",
     "output_type": "stream",
     "text": [
      "C:\\Users\\cherry\\anaconda3\\lib\\site-packages\\keras\\engine\\training.py:2006: UserWarning: `Model.evaluate_generator` is deprecated and will be removed in a future version. Please use `Model.evaluate`, which supports generators.\n",
      "  warnings.warn('`Model.evaluate_generator` is deprecated and '\n"
     ]
    },
    {
     "data": {
      "text/plain": [
       "[0.41422051191329956, 0.8327999711036682]"
      ]
     },
     "execution_count": 23,
     "metadata": {},
     "output_type": "execute_result"
    }
   ],
   "source": [
    "siamese_network.evaluate(x_test, y_test, batch_size=10)"
   ]
  },
  {
   "cell_type": "code",
   "execution_count": null,
   "id": "30e2e576",
   "metadata": {},
   "outputs": [],
   "source": []
  }
 ],
 "metadata": {
  "kernelspec": {
   "display_name": "Python 3",
   "language": "python",
   "name": "python3"
  },
  "language_info": {
   "codemirror_mode": {
    "name": "ipython",
    "version": 3
   },
   "file_extension": ".py",
   "mimetype": "text/x-python",
   "name": "python",
   "nbconvert_exporter": "python",
   "pygments_lexer": "ipython3",
   "version": "3.8.8"
  }
 },
 "nbformat": 4,
 "nbformat_minor": 5
}
